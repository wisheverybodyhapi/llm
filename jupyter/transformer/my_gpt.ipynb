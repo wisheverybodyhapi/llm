{
 "cells": [
  {
   "cell_type": "markdown",
   "id": "017d45fa",
   "metadata": {},
   "source": [
    "# 手写一个gpt"
   ]
  },
  {
   "cell_type": "markdown",
   "id": "d48dd5b6",
   "metadata": {},
   "source": [
    "## 1. 导包"
   ]
  },
  {
   "cell_type": "code",
   "execution_count": null,
   "id": "edcdf06b",
   "metadata": {},
   "outputs": [],
   "source": [
    "import torch\n",
    "import torch.nn as nn\n",
    "import torch.nn.functional as F\n",
    "from torch.utils.data import Dataset\n",
    "from torch.utils.data import DataLoader\n",
    "from dataclasses import dataclass"
   ]
  },
  {
   "cell_type": "markdown",
   "id": "c999b347",
   "metadata": {},
   "source": [
    "## 2. 定义一些GPT参数"
   ]
  },
  {
   "cell_type": "code",
   "execution_count": 4,
   "id": "26bf2c25",
   "metadata": {},
   "outputs": [],
   "source": [
    "class GPTconfig:\n",
    "    seq_len : int = 512\n",
    "    batch_size : int = 12\n",
    "    n_layer : int = 12\n",
    "    n_head : int = 12\n",
    "    n_embd : int = 768 # hidden size\n",
    "    dropout : float = 0.1\n",
    "    head_dim : int = n_embd // n_head\n",
    "    # vocab size\n",
    "    # gpt2 vocab size: 50257\n",
    "    vocab_size : int = 50257"
   ]
  },
  {
   "cell_type": "markdown",
   "id": "535b2f55",
   "metadata": {},
   "source": [
    "## 3. 定义GPT结构"
   ]
  },
  {
   "cell_type": "code",
   "execution_count": 6,
   "id": "e16d0531",
   "metadata": {},
   "outputs": [
    {
     "ename": "SyntaxError",
     "evalue": "incomplete input (121311386.py, line 2)",
     "output_type": "error",
     "traceback": [
      "\u001b[0;36m  Cell \u001b[0;32mIn[6], line 2\u001b[0;36m\u001b[0m\n\u001b[0;31m    class SingleHeadAttention(nn.Module):\u001b[0m\n\u001b[0m                                         ^\u001b[0m\n\u001b[0;31mSyntaxError\u001b[0m\u001b[0;31m:\u001b[0m incomplete input\n"
     ]
    }
   ],
   "source": [
    "# 1. single head attention\n",
    "class SingleHeadAttention(nn.Module):\n",
    "    def __init__(self, config: GPTconfig):\n",
    "        super().__init__()\n",
    "        self.key = nn.Linear(config.n_embd, config.n_embd)"
   ]
  },
  {
   "cell_type": "code",
   "execution_count": 1,
   "id": "984bf3ed",
   "metadata": {},
   "outputs": [
    {
     "data": {
      "text/plain": [
       "[1, 2, 3]"
      ]
     },
     "execution_count": 1,
     "metadata": {},
     "output_type": "execute_result"
    }
   ],
   "source": [
    "[1, 2] + [3]"
   ]
  },
  {
   "cell_type": "code",
   "execution_count": null,
   "id": "8ef382cd",
   "metadata": {},
   "outputs": [],
   "source": []
  }
 ],
 "metadata": {
  "kernelspec": {
   "display_name": "Python 3",
   "language": "python",
   "name": "python3"
  },
  "language_info": {
   "codemirror_mode": {
    "name": "ipython",
    "version": 3
   },
   "file_extension": ".py",
   "mimetype": "text/x-python",
   "name": "python",
   "nbconvert_exporter": "python",
   "pygments_lexer": "ipython3",
   "version": "3.10.14"
  }
 },
 "nbformat": 4,
 "nbformat_minor": 5
}
