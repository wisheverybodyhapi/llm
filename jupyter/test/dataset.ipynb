{
 "cells": [
  {
   "cell_type": "markdown",
   "id": "65e7b51f",
   "metadata": {},
   "source": [
    "# 对数据集进行处理！"
   ]
  },
  {
   "cell_type": "markdown",
   "id": "e09d8b82",
   "metadata": {
    "vscode": {
     "languageId": "plaintext"
    }
   },
   "source": [
    "### 1. 下载数据集"
   ]
  },
  {
   "cell_type": "code",
   "execution_count": 6,
   "id": "90f7952f",
   "metadata": {},
   "outputs": [
    {
     "name": "stdout",
     "output_type": "stream",
     "text": [
      "数据集结构：\n",
      "train: Dataset({\n",
      "    features: ['dynasty', 'author', 'title', 'content'],\n",
      "    num_rows: 217561\n",
      "})\n",
      "\n",
      "训练集大小: 217561\n",
      "\n",
      "数据集的特征：\n",
      "{'dynasty': Value(dtype='string', id=None), 'author': Value(dtype='string', id=None), 'title': Value(dtype='string', id=None), 'content': Value(dtype='string', id=None)}\n"
     ]
    }
   ],
   "source": [
    "from datasets import load_dataset\n",
    "\n",
    "dataset_path = \"/raid/gfc/llm/datasets/ChinesePoems\"\n",
    "ds = load_dataset(\"larryvrh/Chinese-Poems\", cache_dir=dataset_path)\n",
    "\n",
    "# 查看数据集的基本信息\n",
    "print(\"数据集结构：\")\n",
    "for k, v in ds.items():\n",
    "    print(f\"{k}: {v}\")\n",
    "\n",
    "# 获取数据集的大小\n",
    "print(f\"\\n训练集大小: {len(ds['train'])}\")\n",
    "\n",
    "# 查看数据集的列名（特征）\n",
    "print(\"\\n数据集的特征：\")\n",
    "print(ds['train'].features)"
   ]
  },
  {
   "cell_type": "markdown",
   "id": "50e8f3fc",
   "metadata": {},
   "source": [
    "### 2. 清洗数据集"
   ]
  },
  {
   "cell_type": "markdown",
   "id": "13949b25",
   "metadata": {},
   "source": [
    "### 3. 处理数据集"
   ]
  },
  {
   "cell_type": "code",
   "execution_count": 5,
   "id": "6c469a05",
   "metadata": {},
   "outputs": [
    {
     "name": "stdout",
     "output_type": "stream",
     "text": [
      "数据集文件已存在，路径为 /raid/gfc/llm/datasets/ChinesePoems/poems.txt\n"
     ]
    }
   ],
   "source": [
    "import os\n",
    "\n",
    "dataset_file = os.path.join(dataset_path, \"poems.txt\")\n",
    "\n",
    "if not os.path.exists(dataset_file):\n",
    "    # 对数据集进行处理\n",
    "    poems = []\n",
    "\n",
    "    for poem in ds['train']:\n",
    "        content = poem['content']\n",
    "        poems.append(content.replace('\\n', ''))\n",
    "\n",
    "    # 将诗句写入文件\n",
    "    with open(dataset_file, 'w', encoding='utf-8') as f:\n",
    "        for poem in poems:\n",
    "            f.write(poem + '\\n')\n",
    "    print(f\"数据集已保存到 {dataset_file}\")\n",
    "else:\n",
    "    print(f\"数据集文件已存在，路径为 {dataset_file}\")"
   ]
  },
  {
   "cell_type": "markdown",
   "id": "63cd3ad7",
   "metadata": {},
   "source": []
  }
 ],
 "metadata": {
  "kernelspec": {
   "display_name": "llm",
   "language": "python",
   "name": "python3"
  },
  "language_info": {
   "codemirror_mode": {
    "name": "ipython",
    "version": 3
   },
   "file_extension": ".py",
   "mimetype": "text/x-python",
   "name": "python",
   "nbconvert_exporter": "python",
   "pygments_lexer": "ipython3",
   "version": "3.10.14"
  }
 },
 "nbformat": 4,
 "nbformat_minor": 5
}
