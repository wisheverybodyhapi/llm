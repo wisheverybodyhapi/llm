{
 "cells": [
  {
   "cell_type": "markdown",
   "id": "65e7b51f",
   "metadata": {},
   "source": [
    "# 下载数据集，并对数据集进行处理！"
   ]
  },
  {
   "cell_type": "markdown",
   "id": "e09d8b82",
   "metadata": {
    "vscode": {
     "languageId": "plaintext"
    }
   },
   "source": [
    "### 1. 下载数据集"
   ]
  },
  {
   "cell_type": "code",
   "execution_count": null,
   "id": "90f7952f",
   "metadata": {},
   "outputs": [
    {
     "name": "stderr",
     "output_type": "stream",
     "text": [
      "/home/gfc/anaconda3/envs/llm/lib/python3.10/site-packages/tqdm/auto.py:21: TqdmWarning: IProgress not found. Please update jupyter and ipywidgets. See https://ipywidgets.readthedocs.io/en/stable/user_install.html\n",
      "  from .autonotebook import tqdm as notebook_tqdm\n",
      "Downloading readme: 100%|██████████| 2.37k/2.37k [00:00<00:00, 5.11MB/s]\n",
      "Downloading data:   5%|▍         | 31.5M/634M [00:14<04:29, 2.24MB/s]"
     ]
    }
   ],
   "source": [
    "from datasets import load_dataset\n",
    "\n",
    "dataset_path = \"/raid/gfc/llm/datasets/Chinese-medical-dialogue\"\n",
    "ds = load_dataset(\"ticoAg/Chinese-medical-dialogue\", cache_dir=dataset_path)\n",
    "\n",
    "# 查看数据集的基本信息\n",
    "print(\"数据集结构：\")\n",
    "for k, v in ds.items():\n",
    "    print(f\"{k}: {v}\")\n",
    "\n",
    "# 获取数据集的大小\n",
    "print(f\"\\n训练集大小: {len(ds['train'])}\")\n",
    "\n",
    "# 查看数据集的列名（特征）\n",
    "print(\"\\n数据集的特征：\")\n",
    "print(ds['train'].features)"
   ]
  },
  {
   "cell_type": "markdown",
   "id": "50e8f3fc",
   "metadata": {},
   "source": [
    "### 2. 清洗数据集"
   ]
  },
  {
   "cell_type": "markdown",
   "id": "13949b25",
   "metadata": {},
   "source": [
    "### 3. 处理数据集"
   ]
  },
  {
   "cell_type": "markdown",
   "id": "63cd3ad7",
   "metadata": {},
   "source": []
  }
 ],
 "metadata": {
  "kernelspec": {
   "display_name": "llm",
   "language": "python",
   "name": "python3"
  },
  "language_info": {
   "codemirror_mode": {
    "name": "ipython",
    "version": 3
   },
   "file_extension": ".py",
   "mimetype": "text/x-python",
   "name": "python",
   "nbconvert_exporter": "python",
   "pygments_lexer": "ipython3",
   "version": "3.10.14"
  }
 },
 "nbformat": 4,
 "nbformat_minor": 5
}
