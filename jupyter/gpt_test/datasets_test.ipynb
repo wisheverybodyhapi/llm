{
 "cells": [
  {
   "cell_type": "markdown",
   "metadata": {},
   "source": [
    "# 下载数据集 并制作 Dataset"
   ]
  },
  {
   "cell_type": "code",
   "execution_count": 1,
   "metadata": {},
   "outputs": [
    {
     "name": "stderr",
     "output_type": "stream",
     "text": [
      "/raid/gfc/anaconda/envs/llm/lib/python3.10/site-packages/tqdm/auto.py:21: TqdmWarning: IProgress not found. Please update jupyter and ipywidgets. See https://ipywidgets.readthedocs.io/en/stable/user_install.html\n",
      "  from .autonotebook import tqdm as notebook_tqdm\n",
      "Generating train split: 100%|██████████| 217561/217561 [00:00<00:00, 467730.51 examples/s]\n"
     ]
    }
   ],
   "source": [
    "from datasets import load_dataset\n",
    "\n",
    "cache_dir = \"/raid/gfc/llm/datasets\"\n",
    "ds = load_dataset(\"larryvrh/Chinese-Poems\", cache_dir=cache_dir)"
   ]
  },
  {
   "cell_type": "code",
   "execution_count": 2,
   "metadata": {},
   "outputs": [
    {
     "name": "stdout",
     "output_type": "stream",
     "text": [
      "数据集结构：\n",
      "DatasetDict({\n",
      "    train: Dataset({\n",
      "        features: ['dynasty', 'author', 'title', 'content'],\n",
      "        num_rows: 217561\n",
      "    })\n",
      "})\n",
      "\n",
      "训练集大小: 217561\n",
      "\n",
      "数据集的特征：\n",
      "{'dynasty': Value(dtype='string', id=None), 'author': Value(dtype='string', id=None), 'title': Value(dtype='string', id=None), 'content': Value(dtype='string', id=None)}\n"
     ]
    }
   ],
   "source": [
    "from datasets import load_dataset\n",
    "\n",
    "# 指定数据集缓存目录\n",
    "cache_dir = \"/raid/gfc/llm/datasets/ChinesePoems\"\n",
    "\n",
    "# 加载数据集\n",
    "ds = load_dataset(\"larryvrh/Chinese-Poems\", cache_dir=cache_dir)\n",
    "\n",
    "# 查看数据集的基本信息\n",
    "print(\"数据集结构：\")\n",
    "print(ds)\n",
    "\n",
    "# 获取数据集的大小\n",
    "print(f\"\\n训练集大小: {len(ds['train'])}\")\n",
    "\n",
    "# 查看数据集的列名（特征）\n",
    "print(\"\\n数据集的特征：\")\n",
    "print(ds['train'].features)"
   ]
  },
  {
   "cell_type": "code",
   "execution_count": 4,
   "metadata": {},
   "outputs": [],
   "source": [
    "import torch\n",
    "from torch.utils.data import Dataset\n",
    "\n",
    "# 制作 Dataset\n",
    "class MyDataset(Dataset):\n",
    "    def __init__(self, data_path):\n",
    "        with open(data_path, 'r', encoding='utf-8') as f:\n",
    "            self.data = f.readlines()\n",
    "        self.data = [line.strip() for line in self.data]\n",
    "            \n",
    "    def __len__(self):\n",
    "        return len(self.data)\n",
    "\n",
    "    def __getitem__(self, idx):\n",
    "        return self.data[idx]"
   ]
  },
  {
   "cell_type": "markdown",
   "metadata": {},
   "source": [
    "### 以下代码无需运行！！！"
   ]
  },
  {
   "cell_type": "code",
   "execution_count": null,
   "metadata": {},
   "outputs": [],
   "source": [
    "# 对数据集进行处理\n",
    "poems = []\n",
    "\n",
    "for poem in ds['train']:\n",
    "    content = poem['content']\n",
    "    poems.append(content.replace('\\n', ''))\n",
    "\n",
    "save_path = \"/raid/gfc/llm/datasets/ChinesePoems/poems.txt\"\n",
    "# 将诗句写入文件\n",
    "with open(save_path, 'w', encoding='utf-8') as f:\n",
    "    for poem in poems:\n",
    "        f.write(poem + '\\n')\n"
   ]
  },
  {
   "cell_type": "code",
   "execution_count": 4,
   "metadata": {},
   "outputs": [
    {
     "name": "stdout",
     "output_type": "stream",
     "text": [
      "数据集结构：\n",
      "DatasetDict({\n",
      "    train: Dataset({\n",
      "        features: ['dynasty', 'author', 'title', 'content'],\n",
      "        num_rows: 217561\n",
      "    })\n",
      "})\n",
      "\n",
      "训练集大小: 217561\n",
      "\n",
      "数据集的特征：\n",
      "{'dynasty': Value(dtype='string', id=None), 'author': Value(dtype='string', id=None), 'title': Value(dtype='string', id=None), 'content': Value(dtype='string', id=None)}\n",
      "润寒梅细雨，卷灯火、暗尘香。正万里胥涛，流花涨腻，春共东江。云樯。未传燕语，过罘D66D、垂柳舞鹅黄。留取行人系马，软红深处闻莺。\n",
      "悠扬。霁月清风，凝望久、鄮山苍。又紫箫一曲，还吹别调，楚际吴旁。仙方。袖中秘宝，遣蓬莱、弱水变飞霜。寒食春城秀句，趁花飞入宫墙。\n",
      "南梦帆低北梦高。篙师三暮复三朝。柳毅祠前风浪紧。遥问。峨眉晴雪几峰销。除却青天何所见。山远。渔灯凫栅总迢迢。冷浸无声光碎叠。明月。隔船横笛可怜宵。\n"
     ]
    }
   ],
   "source": [
    "\n",
    "from datasets import load_dataset\n",
    "\n",
    "# 指定数据集缓存目录\n",
    "cache_dir = \"/raid/gfc/llm/datasets/ChinesePoems\"\n",
    "\n",
    "# 加载数据集\n",
    "ds = load_dataset(\"larryvrh/Chinese-Poems\", cache_dir=cache_dir)\n",
    "\n",
    "# 查看数据集的基本信息\n",
    "print(\"数据集结构：\")\n",
    "print(ds)\n",
    "\n",
    "# 获取数据集的大小\n",
    "print(f\"\\n训练集大小: {len(ds['train'])}\")\n",
    "\n",
    "# 查看数据集的列名（特征）\n",
    "print(\"\\n数据集的特征：\")\n",
    "print(ds['train'].features)\n",
    "\n",
    "# 对数据集进行处理\n",
    "\n",
    "k = 0\n",
    "for poem in ds['train']:\n",
    "    content = poem['content']\n",
    "    if k == 31433 or k == 31434:\n",
    "        print(content)\n",
    "    if k == 31434:\n",
    "        break\n",
    "    k += 1\n",
    "    \n"
   ]
  },
  {
   "cell_type": "code",
   "execution_count": null,
   "metadata": {},
   "outputs": [],
   "source": []
  }
 ],
 "metadata": {
  "kernelspec": {
   "display_name": "Python 3",
   "language": "python",
   "name": "python3"
  },
  "language_info": {
   "codemirror_mode": {
    "name": "ipython",
    "version": 3
   },
   "file_extension": ".py",
   "mimetype": "text/x-python",
   "name": "python",
   "nbconvert_exporter": "python",
   "pygments_lexer": "ipython3",
   "version": "3.10.14"
  }
 },
 "nbformat": 4,
 "nbformat_minor": 2
}
