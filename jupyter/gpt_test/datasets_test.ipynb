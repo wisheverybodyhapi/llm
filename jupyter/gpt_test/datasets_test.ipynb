{
 "cells": [
  {
   "cell_type": "markdown",
   "metadata": {},
   "source": [
    "# 下载数据集 并制作 Dataset"
   ]
  },
  {
   "cell_type": "code",
   "execution_count": 1,
   "metadata": {},
   "outputs": [
    {
     "name": "stderr",
     "output_type": "stream",
     "text": [
      "/raid/gfc/anaconda/envs/llm/lib/python3.10/site-packages/tqdm/auto.py:21: TqdmWarning: IProgress not found. Please update jupyter and ipywidgets. See https://ipywidgets.readthedocs.io/en/stable/user_install.html\n",
      "  from .autonotebook import tqdm as notebook_tqdm\n",
      "Generating train split: 100%|██████████| 217561/217561 [00:00<00:00, 593207.19 examples/s]\n"
     ]
    }
   ],
   "source": [
    "from datasets import load_dataset\n",
    "\n",
    "cache_dir = \"/raid/gfc/llm/datasets\"\n",
    "ds = load_dataset(\"larryvrh/Chinese-Poems\", cache_dir=cache_dir)"
   ]
  },
  {
   "cell_type": "code",
   "execution_count": 1,
   "metadata": {},
   "outputs": [
    {
     "name": "stderr",
     "output_type": "stream",
     "text": [
      "/raid/gfc/anaconda/envs/llm/lib/python3.10/site-packages/tqdm/auto.py:21: TqdmWarning: IProgress not found. Please update jupyter and ipywidgets. See https://ipywidgets.readthedocs.io/en/stable/user_install.html\n",
      "  from .autonotebook import tqdm as notebook_tqdm\n"
     ]
    },
    {
     "name": "stdout",
     "output_type": "stream",
     "text": [
      "数据集结构：\n",
      "DatasetDict({\n",
      "    train: Dataset({\n",
      "        features: ['dynasty', 'author', 'title', 'content'],\n",
      "        num_rows: 217561\n",
      "    })\n",
      "})\n",
      "\n",
      "训练集大小: 217561\n",
      "\n",
      "数据集的特征：\n",
      "{'dynasty': Value(dtype='string', id=None), 'author': Value(dtype='string', id=None), 'title': Value(dtype='string', id=None), 'content': Value(dtype='string', id=None)}\n"
     ]
    }
   ],
   "source": [
    "from datasets import load_dataset\n",
    "\n",
    "# 指定数据集缓存目录\n",
    "cache_dir = \"/raid/gfc/llm/datasets/ChinesePoems\"\n",
    "\n",
    "# 加载数据集\n",
    "ds = load_dataset(\"larryvrh/Chinese-Poems\", cache_dir=cache_dir)\n",
    "\n",
    "# 查看数据集的基本信息\n",
    "print(\"数据集结构：\")\n",
    "print(ds)\n",
    "\n",
    "# 获取数据集的大小\n",
    "print(f\"\\n训练集大小: {len(ds['train'])}\")\n",
    "\n",
    "# 查看数据集的列名（特征）\n",
    "print(\"\\n数据集的特征：\")\n",
    "print(ds['train'].features)"
   ]
  },
  {
   "cell_type": "code",
   "execution_count": null,
   "metadata": {},
   "outputs": [],
   "source": [
    "# 对数据集进行处理\n",
    "poems = []\n",
    "\n",
    "for poem in ds['train']:\n",
    "    content = poem['content']\n",
    "    poems.append(content.replace('\\n', ''))\n",
    "\n",
    "save_path = \"/raid/gfc/llm/datasets/ChinesePoems/poems.txt\"\n",
    "# 将诗句写入文件\n",
    "with open(save_path, 'w', encoding='utf-8') as f:\n",
    "    for poem in poems:\n",
    "        f.write(poem + '\\n')\n"
   ]
  },
  {
   "cell_type": "code",
   "execution_count": 10,
   "metadata": {},
   "outputs": [],
   "source": [
    "import torch\n",
    "from torch.utils.data import Dataset\n",
    "\n",
    "# 制作 Dataset\n",
    "class MyDataset(Dataset):\n",
    "    def __init__(self, data_path):\n",
    "        with open(data_path, 'r', encoding='utf-8') as f:\n",
    "            self.data = f.readlines()\n",
    "        self.data = [line.strip() for line in self.data]\n",
    "            \n",
    "    def __len__(self):\n",
    "        return len(self.data)\n",
    "\n",
    "    def __getitem__(self, idx):\n",
    "        return self.data[idx]"
   ]
  },
  {
   "cell_type": "code",
   "execution_count": 12,
   "metadata": {},
   "outputs": [
    {
     "name": "stdout",
     "output_type": "stream",
     "text": [
      "数据集结构：\n",
      "数据集大小：217561, 数据[0]：青鞋踏尽剑鋩山，借枕僧房落照间。高屋凭虚听泉语，岭云应似我身闲。\n"
     ]
    }
   ],
   "source": [
    "dataset = MyDataset(save_path)\n",
    "\n",
    "# 查看数据集的基本信息\n",
    "print(\"数据集结构：\")\n",
    "print(f\"数据集大小：{len(dataset)}, 数据[0]：{dataset[0]}\")\n"
   ]
  },
  {
   "cell_type": "code",
   "execution_count": null,
   "metadata": {},
   "outputs": [],
   "source": []
  }
 ],
 "metadata": {
  "kernelspec": {
   "display_name": "Python 3",
   "language": "python",
   "name": "python3"
  },
  "language_info": {
   "codemirror_mode": {
    "name": "ipython",
    "version": 3
   },
   "file_extension": ".py",
   "mimetype": "text/x-python",
   "name": "python",
   "nbconvert_exporter": "python",
   "pygments_lexer": "ipython3",
   "version": "3.10.14"
  }
 },
 "nbformat": 4,
 "nbformat_minor": 2
}
