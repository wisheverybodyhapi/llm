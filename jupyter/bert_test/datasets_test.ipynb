{
 "cells": [
  {
   "cell_type": "markdown",
   "metadata": {},
   "source": [
    "# 测试datasets库"
   ]
  },
  {
   "cell_type": "markdown",
   "metadata": {},
   "source": [
    "### 1. 获取hugging face上所有数据集名称，并打印前10个"
   ]
  },
  {
   "cell_type": "code",
   "execution_count": 5,
   "metadata": {},
   "outputs": [
    {
     "name": "stdout",
     "output_type": "stream",
     "text": [
      "['nvidia/Nemotron-CrossThink', 'nvidia/OpenMathReasoning', 'nvidia/OpenCodeReasoning', 'rajpurkarlab/ReXGradient-160K', 'deepseek-ai/DeepSeek-ProverBench', 'fka/awesome-chatgpt-prompts', 'nvidia/Llama-Nemotron-Post-Training-Dataset', 'OpenGVLab/InternVL-Data', 'Eureka-Lab/PHYBench', 'nyuuzyou/svgfind']\n"
     ]
    }
   ],
   "source": [
    "from huggingface_hub import list_datasets\n",
    "\n",
    "# 获取数据集列表\n",
    "datasets = list(list_datasets())  # 转换为列表\n",
    "if datasets:\n",
    "    # 打印前 10 个数据集 ID\n",
    "    print([dataset.id for dataset in datasets[:10]])\n",
    "else:\n",
    "    print(\"未获取到数据集，可能网络或权限问题。\")"
   ]
  },
  {
   "cell_type": "markdown",
   "metadata": {},
   "source": [
    "### 2. 下载数据集，并转存为csv格式"
   ]
  },
  {
   "cell_type": "code",
   "execution_count": null,
   "metadata": {},
   "outputs": [
    {
     "name": "stderr",
     "output_type": "stream",
     "text": [
      "Using the latest cached version of the dataset since lansinuote/ChnSentiCorp couldn't be found on the Hugging Face Hub\n",
      "Found the latest cached dataset configuration 'default' at /home/gfc/.cache/huggingface/datasets/lansinuote___chn_senti_corp/default/0.0.0/b0c4c119c3fb33b8e735969202ef9ad13d717e5a (last modified on Wed May  7 00:40:47 2025).\n"
     ]
    },
    {
     "name": "stderr",
     "output_type": "stream",
     "text": [
      "Creating CSV from Arrow format: 100%|██████████| 10/10 [00:00<00:00, 114.86ba/s]\n",
      "Creating CSV from Arrow format: 100%|██████████| 2/2 [00:00<00:00, 166.76ba/s]\n",
      "Creating CSV from Arrow format: 100%|██████████| 2/2 [00:00<00:00, 173.88ba/s]\n",
      "Generating train split: 9600 examples [00:00, 97772.41 examples/s]\n",
      "Generating validation split: 1200 examples [00:00, 58180.15 examples/s]\n",
      "Generating test split: 1200 examples [00:00, 78174.16 examples/s]"
     ]
    },
    {
     "name": "stdout",
     "output_type": "stream",
     "text": [
      "DatasetDict({\n",
      "    train: Dataset({\n",
      "        features: ['text', 'label'],\n",
      "        num_rows: 9600\n",
      "    })\n",
      "    validation: Dataset({\n",
      "        features: ['text', 'label'],\n",
      "        num_rows: 1200\n",
      "    })\n",
      "    test: Dataset({\n",
      "        features: ['text', 'label'],\n",
      "        num_rows: 1200\n",
      "    })\n",
      "})\n",
      "{'text': ['选择珠江花园的原因就是方便，有电动扶梯直接到达海边，周围餐馆、食廊、商场、超市、摊位一应俱全。酒店装修一般，但还算整洁。 泳池在大堂的屋顶，因此很小，不过女儿倒是喜欢。 包的早餐是西式的，还算丰富。 服务吗，一般', '15.4寸笔记本的键盘确实爽，基本跟台式机差不多了，蛮喜欢数字小键盘，输数字特方便，样子也很美观，做工也相当不错'], 'label': [1, 1]}\n"
     ]
    },
    {
     "name": "stderr",
     "output_type": "stream",
     "text": [
      "\n"
     ]
    }
   ],
   "source": [
    "from datasets import load_dataset\n",
    "import os\n",
    "\n",
    "os.makedirs(\"../datasets/ChnSentiCorp\", exist_ok=True)\n",
    "\n",
    "# 在线加载\n",
    "data = load_dataset(\"lansinuote/ChnSentiCorp\")\n",
    "# 保存为 CSV\n",
    "data[\"train\"].to_csv(\"../datasets/ChnSentiCorp/train.csv\")\n",
    "data[\"validation\"].to_csv(\"../datasets/ChnSentiCorp/validation.csv\")\n",
    "data[\"test\"].to_csv(\"../datasets/ChnSentiCorp/test.csv\")\n",
    "\n",
    "# 加载 CSV\n",
    "data_csv = load_dataset(\"csv\", data_files={\n",
    "    \"train\": \"../datasets/ChnSentiCorp/train.csv\",\n",
    "    \"validation\": \"../datasets/ChnSentiCorp/validation.csv\",\n",
    "    \"test\": \"../datasets/ChnSentiCorp/test.csv\"\n",
    "})\n",
    "# print(data_csv) \n",
    "print(data_csv[\"train\"][:2])"
   ]
  },
  {
   "cell_type": "code",
   "execution_count": null,
   "metadata": {},
   "outputs": [],
   "source": []
  }
 ],
 "metadata": {
  "kernelspec": {
   "display_name": "Python 3",
   "language": "python",
   "name": "python3"
  },
  "language_info": {
   "codemirror_mode": {
    "name": "ipython",
    "version": 3
   },
   "file_extension": ".py",
   "mimetype": "text/x-python",
   "name": "python",
   "nbconvert_exporter": "python",
   "pygments_lexer": "ipython3",
   "version": "3.10.14"
  }
 },
 "nbformat": 4,
 "nbformat_minor": 2
}
